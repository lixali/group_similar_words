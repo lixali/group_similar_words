{
  "cells": [
    {
      "cell_type": "markdown",
      "metadata": {
        "id": "view-in-github",
        "colab_type": "text"
      },
      "source": [
        "<a href=\"https://colab.research.google.com/github/lixali/group_similar_words/blob/master/similar_words.ipynb\" target=\"_parent\"><img src=\"https://colab.research.google.com/assets/colab-badge.svg\" alt=\"Open In Colab\"/></a>"
      ]
    },
    {
      "cell_type": "markdown",
      "metadata": {
        "id": "Nma_JWh-W-IF"
      },
      "source": [
        ""
      ]
    },
    {
      "cell_type": "code",
      "source": [
        "from collections import defaultdict\n",
        "from nltk.stem import PorterStemmer\n",
        "from nltk.tokenize import word_tokenize\n",
        "import nltk\n",
        "from collections import defaultdict \n",
        "\n",
        "ps = PorterStemmer()\n",
        " \n",
        "words = [\"crime\", \"crimes\", \"Crime\", \"murders\", \"homicides\", \"criminality\", \"criminals\", \"homicide\", \"Crimes\", \"hate_crimes\", \"Violent_crime\", \"drug_trafficking\"\n",
        ", \"Violent_crimes\", \"cybercrime\", \"violence\", \"Homicides\", \"murder\", \"gangland_killings\", \"Violent_Crime\", \"cybercrime\"]\n",
        "distancedict = defaultdict(set)\n",
        "\n",
        "for idx, w in enumerate(words):\n",
        "    w=w.replace(\"_\", \" \")\n",
        "    #print(w, \" : \", ps.stem(w))\n",
        "    wordstem = ps.stem(w)\n",
        "    #distancedict = {defaultdict: list}\n",
        "    for jdx in range(idx, len(words)):\n",
        "      distance = nltk.edit_distance(words[idx], words[jdx], transpositions=False)\n",
        "      #print(distance)\n",
        "      if distance <=2:\n",
        "        distancedict[wordstem].add(words[jdx])\n",
        "\n",
        "#print(dict(distancedict))\n",
        "for key in distancedict:\n",
        "    print(key, distancedict[key])"
      ],
      "metadata": {
        "id": "fqGwYaTgPNVb",
        "outputId": "aa09c9d7-db98-4873-c03e-d9f39d53f3fe",
        "colab": {
          "base_uri": "https://localhost:8080/"
        }
      },
      "execution_count": null,
      "outputs": [
        {
          "output_type": "stream",
          "name": "stdout",
          "text": [
            "crime {'Crimes', 'crime', 'Crime', 'crimes'}\n",
            "murder {'murders', 'murder'}\n",
            "homicid {'homicide', 'Homicides', 'homicides'}\n",
            "crimin {'criminality', 'criminals'}\n",
            "hate crim {'hate_crimes'}\n",
            "violent crim {'Violent_Crime', 'Violent_crimes', 'Violent_crime'}\n",
            "drug traffick {'drug_trafficking'}\n",
            "cybercrim {'cybercrime'}\n",
            "violenc {'violence'}\n",
            "gangland kil {'gangland_killings'}\n"
          ]
        }
      ]
    },
    {
      "cell_type": "code",
      "source": [
        "from nltk.stem import WordNetLemmatizer\n",
        "import nltk\n",
        "from collections import defaultdict\n",
        "\n",
        "nltk.download('wordnet') \n",
        "lemmatizer = WordNetLemmatizer()\n",
        " \n",
        "distancedict = defaultdict(set)\n",
        "merged = defaultdict(lambda: False)\n",
        "distancedictFinal = defaultdict(set)\n",
        "\n",
        "\n",
        "words = [\"crime\", \"crimes\", \"Crime\", \"murders\", \"homicides\", \"criminality\", \"criminals\", \"homicide\", \"Crimes\", \"hate_crimes\", \"Violent_crime\", \"drug_trafficking\"\n",
        ", \"Violent_crimes\", \"cybercrime\", \"violence\", \"Homicides\", \"murder\", \"gangland_killings\", \"Violent_Crime\", \"cybercrime\", \"gangland_kill\", \"violent_criminal\"]\n",
        "\n",
        "def getWordLemma():\n",
        "  for w in words:\n",
        "      wlower=w.lower()\n",
        "      #w=w.replace(\"_\", \" \")\n",
        "      if \"_\" not in w:\n",
        "        #print(w, \" : \", lemmatizer.lemmatize(w))\n",
        "        wordlemma = lemmatizer.lemmatize(wlower)\n",
        "\n",
        "      else:\n",
        "        w_list = w.split(\"_\")\n",
        "        #print(w_list)\n",
        "        w_newlist = []\n",
        "        for singlew in w_list:\n",
        "          #print(singlew, \" : \", lemmatizer.lemmatize(singlew))\n",
        "          singlew=singlew.lower()\n",
        "          w_newlist.append(lemmatizer.lemmatize(singlew))\n",
        "\n",
        "        wordlemma = ' '.join(w_newlist);\n",
        "\n",
        "      distancedict[wordlemma].add(w)\n",
        "\n",
        "### the distance is calculated after the lemmatization \n",
        "def calculateLemmaDistance():\n",
        "  for key1 in distancedict:\n",
        "    for key2 in distancedict:\n",
        "      if key1 != key2:\n",
        "        distance = nltk.edit_distance(key1, key2, transpositions=False)\n",
        "        #print(distance)\n",
        "        #print(key1, key2, distance)\n",
        "        #if key1 == \"gangland killing\": print(key1, key2, distance)\n",
        "        if distance <=3 and merged[key2] == False:\n",
        "          merged[key1] = True\n",
        "          merged[key2] = True\n",
        "          newSet = distancedictFinal[key1]\n",
        "          newSet.update(distancedict[key1])\n",
        "          newSet.update(distancedict[key2])\n",
        "          distancedictFinal[key1] = newSet\n",
        "          \n",
        "          #print(key1, key2)\n",
        "          #print(distancedict[key1])\n",
        "          #distancedictFinal[key1] = defaultdict[key1].union(defaultdict[key2])\n",
        "\n",
        "def processMergedFalse():\n",
        "  for key in distancedict:\n",
        "    #print(key, distancedict[key])\n",
        "    if merged[key] == False:\n",
        "      distancedictFinal[key] = distancedict[key]\n",
        "\n",
        "getWordLemma()\n",
        "calculateLemmaDistance()\n",
        "processMergedFalse()\n",
        "\n",
        "    \n",
        "for key in sorted(distancedictFinal.keys()):\n",
        "  print(key, distancedictFinal[key])"
      ],
      "metadata": {
        "colab": {
          "base_uri": "https://localhost:8080/"
        },
        "id": "Xk8_7XU5gt-r",
        "outputId": "761c627a-3200-4c7d-f999-46bdec2b22cd"
      },
      "execution_count": null,
      "outputs": [
        {
          "output_type": "stream",
          "name": "stdout",
          "text": [
            "[nltk_data] Downloading package wordnet to /root/nltk_data...\n",
            "[nltk_data]   Package wordnet is already up-to-date!\n",
            "crime {'Crimes', 'crime', 'Crime', 'crimes'}\n",
            "criminality {'criminality', 'criminals'}\n",
            "cybercrime {'cybercrime'}\n",
            "drug trafficking {'drug_trafficking'}\n",
            "gangland killing {'gangland_killings', 'gangland_kill'}\n",
            "hate crime {'hate_crimes'}\n",
            "homicide {'homicide', 'Homicides', 'homicides'}\n",
            "murder {'murders', 'murder'}\n",
            "violence {'violence'}\n",
            "violent crime {'Violent_Crime', 'Violent_crimes', 'Violent_crime'}\n",
            "violent criminal {'violent_criminal'}\n"
          ]
        }
      ]
    }
  ],
  "metadata": {
    "colab": {
      "collapsed_sections": [],
      "name": "similar_words",
      "provenance": [],
      "include_colab_link": true
    },
    "kernelspec": {
      "display_name": "Python 3",
      "name": "python3"
    }
  },
  "nbformat": 4,
  "nbformat_minor": 0
}